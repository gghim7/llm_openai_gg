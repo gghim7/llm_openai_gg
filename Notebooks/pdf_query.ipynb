{
 "cells": [
  {
   "cell_type": "code",
   "execution_count": 2,
   "metadata": {},
   "outputs": [],
   "source": [
    "# !pip install langchain\n",
    "# !pip install openai\n",
    "# !pip install PyPDF2\n",
    "# !pip install faiss-cpu\n",
    "# !pip install tiktoken"
   ]
  },
  {
   "cell_type": "code",
   "execution_count": 3,
   "metadata": {},
   "outputs": [],
   "source": [
    "from PyPDF2 import PdfReader\n",
    "from langchain.embeddings.openai import OpenAIEmbeddings\n",
    "from langchain.text_splitter import CharacterTextSplitter\n",
    "from langchain.vectorstores import FAISS"
   ]
  },
  {
   "cell_type": "code",
   "execution_count": 4,
   "metadata": {},
   "outputs": [],
   "source": [
    "import os\n",
    "os.environ[\"OPENAI_API_KEY\"] = \"\"\n",
    "os.environ[\"SERPAPI_API_KEY\"] = \"\""
   ]
  },
  {
   "cell_type": "code",
   "execution_count": 6,
   "metadata": {},
   "outputs": [],
   "source": [
    "# provide the path of  pdf file/files.\n",
    "pdfreader = PdfReader('jd.pdf')"
   ]
  },
  {
   "cell_type": "code",
   "execution_count": 7,
   "metadata": {},
   "outputs": [],
   "source": [
    "from typing_extensions import Concatenate\n",
    "# read text from pdf\n",
    "raw_text = ''\n",
    "for i, page in enumerate(pdfreader.pages):\n",
    "    content = page.extract_text()\n",
    "    if content:\n",
    "        raw_text += content"
   ]
  },
  {
   "cell_type": "code",
   "execution_count": 8,
   "metadata": {},
   "outputs": [
    {
     "data": {
      "text/plain": [
       "\"Data Scientist  – JR00 95187  \\n \\n \\nJob Description : \\nMcKesson is in the business of better health  and we touch the lives of patients in virtually every aspect of \\nhealthcare. We partner with payors, hospitals, physician offices, pharmacies, pharmaceutical companies and \\nothers across the spectrum of care to build healthier organizations that deliver bet ter care to patients in every \\nsetting. We believe in the importance of strong, vital organizations because we know that patients can only be \\nhealthy when our system is healthy.  \\n \\nEvery single McKesson employee contributes to our mission —by joining McKesson you act as a catalyst in a \\nchain of events that helps millions of people all over the globe. Talented, compassionate people are the future \\nof our company —and of healthcare. At McKesson, you’ll collaborate on the products and solutions that help \\nus carry ou t our mission to improve lives and advance healthcare. Working here is your opportunity to shape \\nan industry that’s vital to us all.  \\n \\nWe understand the importance of a system that works together. Your expertise, drive and passion can help us \\nimprove everyt hing we touch, from providers to payors to pharmacies. Join our team of leaders to begin a \\nrewarding career. Wherever you contribute here at McKesson, you will have the ability to make a real impact \\nin the lives of others.  \\n \\nHow you'll make a difference : \\nThe McKesson Data & Digital Innovation team draws upon deep expertise in data science, data analytics, and \\nreal-world healthcare data to deliver innovative data -driven strategies and insights for customers in the \\nhealthcare industry across all phases of prod uct development and commercialization. Our work helps \\nstakeholders/business partners define markets, demonstrate value and effectiveness, and inform business \\ndecisions throughout product lifecycles.  \\n \\n• The Data Scientist will be able to work on complex busin ess problems by leveraging our in -house data \\nsources within a collaborative environment. This role will support healthcare data initiatives by \\nproviding accurate and timely data preparation, analysis and insights, quality assurance, and ongoing \\nsystem and process maintenance. This person will be responsible for obtaining and validating raw data, \\nperforming analysis, and producing mock -up and production reports and visualizations from available \\nsources. The person will have an in -depth knowledge of software,  documentation, utilities & program \\nscripts, as well as excellent written & verbal communication skills.  \\n• With minimal supervision, synthesizes business rules and methodological approach to answer \\nquestions posed by internal or external business partners  \\n• Analyzes raw healthcare data from multiple sources, such as electronic health records and claims data, \\nusing algorithms and statistical programming  \\n• Ensures data sets and reports are built to specifications and formats output of data analysis for \\ncustomer rea diness  \\n• Facilitates and participates in peer review meetings for each of the deliverables  \\n• Works on multiple projects simultaneously in a fast -paced, dynamic environment  \\n• Leverage data visualization and interactive dashboards to effectively communicate insigh ts and help \\nstakeholders make better decisions from our Mckesson data products.  \\n• Interacts with business partners to clarify needs and in reviewing results  \\n• Proactively communicates, collaborates, and builds relationships with external and internal \\nstakeholders  • Translating the findings from reports for stakeholders into implications or recommendations for \\nbusiness decisions  \\n• Ability to formulate and implement effective data strategies and identify areas for significant efficiency \\ngain through automati on \\n• Provides quality assurance on all assigned reporting and data extracts  \\n \\nJob Duties and Responsibilities:  \\nWhat you will bring to the table :  \\n• Must have 7+ years of work experience in data analysis and/or supporting healthcare information \\nsystems  \\n• Must have  5+ years of programming in Python/R and SQL  \\n• Experience in statistical programming, data analysis, visualization, and applying quantitative methods \\nto real -world business problems in the life sciences industry  \\n• Experience in mining Claims and EMR data, pref erably healthcare -related data  \\n• Strong interpersonal, oral, and written communication skills  \\n• Self-starter, able to work with limited supervision  \\n• Demonstrates curiosity and a creative approach to problem -solving  \\n• Effectively work independently and within a te am \\n• Excellent attention to detail and desire to continuously learn and develop professionally  \\n• Proficient in Microsoft Word, Excel, and PowerPoint  \\n• Healthcare consulting experience preferred.  \\n• Bachelors/Master's degree in Healthcare, Public Health, Statistics,  Research Methods, or related fields \\npreferred. Master's or Ph.D. preferred  \\n \\nWhat's in it for you :  \\n• Rewarding career with a fortune 10 company that allows you to do great things for patients around the \\nworld  \\n• Competitive pay and incentive programs  \\n• Trendy new office space  \\n• Diverse and Inclusive Collaborative environment  \\n• Health Fairs and free biometrics screenings  \\n• Onsite Fitness Centers with locker rooms and outdoor trails near by  \\n• Additional discount programs and more!  \\n \\nEducation : \\n• MS Degree in computer science or related field or equivalent experience  \\n \\n \""
      ]
     },
     "execution_count": 8,
     "metadata": {},
     "output_type": "execute_result"
    }
   ],
   "source": [
    "raw_text"
   ]
  },
  {
   "cell_type": "code",
   "execution_count": 9,
   "metadata": {},
   "outputs": [],
   "source": [
    "# We need to split the text using Character Text Split such that it sshould not increse token size\n",
    "text_splitter = CharacterTextSplitter(\n",
    "    separator = \"\\n\",\n",
    "    chunk_size = 800,\n",
    "    chunk_overlap  = 200,\n",
    "    length_function = len,\n",
    ")\n",
    "texts = text_splitter.split_text(raw_text)"
   ]
  },
  {
   "cell_type": "code",
   "execution_count": 11,
   "metadata": {},
   "outputs": [
    {
     "data": {
      "text/plain": [
       "['Data Scientist  – JR00 95187  \\n \\n \\nJob Description : \\nMcKesson is in the business of better health  and we touch the lives of patients in virtually every aspect of \\nhealthcare. We partner with payors, hospitals, physician offices, pharmacies, pharmaceutical companies and \\nothers across the spectrum of care to build healthier organizations that deliver bet ter care to patients in every \\nsetting. We believe in the importance of strong, vital organizations because we know that patients can only be \\nhealthy when our system is healthy.  \\n \\nEvery single McKesson employee contributes to our mission —by joining McKesson you act as a catalyst in a \\nchain of events that helps millions of people all over the globe. Talented, compassionate people are the future',\n",
       " \"chain of events that helps millions of people all over the globe. Talented, compassionate people are the future \\nof our company —and of healthcare. At McKesson, you’ll collaborate on the products and solutions that help \\nus carry ou t our mission to improve lives and advance healthcare. Working here is your opportunity to shape \\nan industry that’s vital to us all.  \\n \\nWe understand the importance of a system that works together. Your expertise, drive and passion can help us \\nimprove everyt hing we touch, from providers to payors to pharmacies. Join our team of leaders to begin a \\nrewarding career. Wherever you contribute here at McKesson, you will have the ability to make a real impact \\nin the lives of others.  \\n \\nHow you'll make a difference :\",\n",
       " \"rewarding career. Wherever you contribute here at McKesson, you will have the ability to make a real impact \\nin the lives of others.  \\n \\nHow you'll make a difference : \\nThe McKesson Data & Digital Innovation team draws upon deep expertise in data science, data analytics, and \\nreal-world healthcare data to deliver innovative data -driven strategies and insights for customers in the \\nhealthcare industry across all phases of prod uct development and commercialization. Our work helps \\nstakeholders/business partners define markets, demonstrate value and effectiveness, and inform business \\ndecisions throughout product lifecycles.  \\n \\n• The Data Scientist will be able to work on complex busin ess problems by leveraging our in -house data\",\n",
       " 'decisions throughout product lifecycles.  \\n \\n• The Data Scientist will be able to work on complex busin ess problems by leveraging our in -house data \\nsources within a collaborative environment. This role will support healthcare data initiatives by \\nproviding accurate and timely data preparation, analysis and insights, quality assurance, and ongoing \\nsystem and process maintenance. This person will be responsible for obtaining and validating raw data, \\nperforming analysis, and producing mock -up and production reports and visualizations from available \\nsources. The person will have an in -depth knowledge of software,  documentation, utilities & program \\nscripts, as well as excellent written & verbal communication skills.',\n",
       " 'sources. The person will have an in -depth knowledge of software,  documentation, utilities & program \\nscripts, as well as excellent written & verbal communication skills.  \\n• With minimal supervision, synthesizes business rules and methodological approach to answer \\nquestions posed by internal or external business partners  \\n• Analyzes raw healthcare data from multiple sources, such as electronic health records and claims data, \\nusing algorithms and statistical programming  \\n• Ensures data sets and reports are built to specifications and formats output of data analysis for \\ncustomer rea diness  \\n• Facilitates and participates in peer review meetings for each of the deliverables  \\n• Works on multiple projects simultaneously in a fast -paced, dynamic environment',\n",
       " 'customer rea diness  \\n• Facilitates and participates in peer review meetings for each of the deliverables  \\n• Works on multiple projects simultaneously in a fast -paced, dynamic environment  \\n• Leverage data visualization and interactive dashboards to effectively communicate insigh ts and help \\nstakeholders make better decisions from our Mckesson data products.  \\n• Interacts with business partners to clarify needs and in reviewing results  \\n• Proactively communicates, collaborates, and builds relationships with external and internal \\nstakeholders  • Translating the findings from reports for stakeholders into implications or recommendations for \\nbusiness decisions  \\n• Ability to formulate and implement effective data strategies and identify areas for significant efficiency',\n",
       " 'business decisions  \\n• Ability to formulate and implement effective data strategies and identify areas for significant efficiency \\ngain through automati on \\n• Provides quality assurance on all assigned reporting and data extracts  \\n \\nJob Duties and Responsibilities:  \\nWhat you will bring to the table :  \\n• Must have 7+ years of work experience in data analysis and/or supporting healthcare information \\nsystems  \\n• Must have  5+ years of programming in Python/R and SQL  \\n• Experience in statistical programming, data analysis, visualization, and applying quantitative methods \\nto real -world business problems in the life sciences industry  \\n• Experience in mining Claims and EMR data, pref erably healthcare -related data  \\n• Strong interpersonal, oral, and written communication skills',\n",
       " \"• Experience in mining Claims and EMR data, pref erably healthcare -related data  \\n• Strong interpersonal, oral, and written communication skills  \\n• Self-starter, able to work with limited supervision  \\n• Demonstrates curiosity and a creative approach to problem -solving  \\n• Effectively work independently and within a te am \\n• Excellent attention to detail and desire to continuously learn and develop professionally  \\n• Proficient in Microsoft Word, Excel, and PowerPoint  \\n• Healthcare consulting experience preferred.  \\n• Bachelors/Master's degree in Healthcare, Public Health, Statistics,  Research Methods, or related fields \\npreferred. Master's or Ph.D. preferred  \\n \\nWhat's in it for you :\",\n",
       " \"• Bachelors/Master's degree in Healthcare, Public Health, Statistics,  Research Methods, or related fields \\npreferred. Master's or Ph.D. preferred  \\n \\nWhat's in it for you :  \\n• Rewarding career with a fortune 10 company that allows you to do great things for patients around the \\nworld  \\n• Competitive pay and incentive programs  \\n• Trendy new office space  \\n• Diverse and Inclusive Collaborative environment  \\n• Health Fairs and free biometrics screenings  \\n• Onsite Fitness Centers with locker rooms and outdoor trails near by  \\n• Additional discount programs and more!  \\n \\nEducation : \\n• MS Degree in computer science or related field or equivalent experience\"]"
      ]
     },
     "execution_count": 11,
     "metadata": {},
     "output_type": "execute_result"
    }
   ],
   "source": [
    "texts"
   ]
  },
  {
   "cell_type": "code",
   "execution_count": 10,
   "metadata": {},
   "outputs": [
    {
     "data": {
      "text/plain": [
       "9"
      ]
     },
     "execution_count": 10,
     "metadata": {},
     "output_type": "execute_result"
    }
   ],
   "source": [
    "len(texts)"
   ]
  },
  {
   "cell_type": "code",
   "execution_count": 13,
   "metadata": {},
   "outputs": [],
   "source": [
    "# # Download embeddings from OpenAI\n",
    "# embeddings = OpenAIEmbeddings()"
   ]
  },
  {
   "cell_type": "code",
   "execution_count": null,
   "metadata": {},
   "outputs": [],
   "source": [
    "document_search = FAISS.from_texts(texts, embeddings)"
   ]
  },
  {
   "cell_type": "code",
   "execution_count": null,
   "metadata": {},
   "outputs": [],
   "source": [
    "document_search"
   ]
  },
  {
   "cell_type": "code",
   "execution_count": null,
   "metadata": {},
   "outputs": [],
   "source": [
    "from langchain.chains.question_answering import load_qa_chain\n",
    "from langchain.llms import OpenAI"
   ]
  },
  {
   "cell_type": "code",
   "execution_count": null,
   "metadata": {},
   "outputs": [],
   "source": [
    "chain = load_qa_chain(OpenAI(), chain_type=\"stuff\")"
   ]
  },
  {
   "cell_type": "code",
   "execution_count": null,
   "metadata": {},
   "outputs": [],
   "source": [
    "query = \"Requirements\"\n",
    "docs = document_search.similarity_search(query)\n",
    "chain.run(input_documents=docs, question=query)"
   ]
  },
  {
   "cell_type": "code",
   "execution_count": null,
   "metadata": {},
   "outputs": [],
   "source": [
    "query = \"Benifits\"\n",
    "docs = document_search.similarity_search(query)\n",
    "chain.run(input_documents=docs, question=query)"
   ]
  },
  {
   "cell_type": "code",
   "execution_count": null,
   "metadata": {},
   "outputs": [],
   "source": [
    "from langchain.document_loaders import OnlinePDFLoader"
   ]
  },
  {
   "cell_type": "code",
   "execution_count": null,
   "metadata": {},
   "outputs": [],
   "source": [
    "loader = OnlinePDFLoader(\"https://arxiv.org/pdf/1706.03762.pdf\")"
   ]
  },
  {
   "cell_type": "code",
   "execution_count": null,
   "metadata": {},
   "outputs": [],
   "source": [
    "data = loader.load()"
   ]
  },
  {
   "cell_type": "code",
   "execution_count": null,
   "metadata": {},
   "outputs": [],
   "source": [
    "data"
   ]
  },
  {
   "cell_type": "code",
   "execution_count": null,
   "metadata": {},
   "outputs": [],
   "source": [
    "# Download embeddings from OpenAI\n",
    "embeddings = OpenAIEmbeddings()"
   ]
  },
  {
   "cell_type": "code",
   "execution_count": null,
   "metadata": {},
   "outputs": [],
   "source": [
    "from langchain.indexes import VectorstoreIndexCreator\n",
    "index = VectorstoreIndexCreator().from_loaders([loader])"
   ]
  },
  {
   "cell_type": "code",
   "execution_count": null,
   "metadata": {},
   "outputs": [],
   "source": [
    "query = \"Explain me about Attention is all you need\"\n",
    "index.query(query)"
   ]
  },
  {
   "cell_type": "code",
   "execution_count": null,
   "metadata": {},
   "outputs": [],
   "source": []
  },
  {
   "cell_type": "code",
   "execution_count": null,
   "metadata": {},
   "outputs": [],
   "source": []
  }
 ],
 "metadata": {
  "kernelspec": {
   "display_name": "LC",
   "language": "python",
   "name": "python3"
  },
  "language_info": {
   "codemirror_mode": {
    "name": "ipython",
    "version": 3
   },
   "file_extension": ".py",
   "mimetype": "text/x-python",
   "name": "python",
   "nbconvert_exporter": "python",
   "pygments_lexer": "ipython3",
   "version": "3.10.11"
  }
 },
 "nbformat": 4,
 "nbformat_minor": 2
}
